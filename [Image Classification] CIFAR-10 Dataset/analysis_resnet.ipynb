{
 "cells": [
  {
   "cell_type": "code",
   "execution_count": 1,
   "metadata": {},
   "outputs": [],
   "source": [
    "import torch\n",
    "import torch.nn as nn\n",
    "import torch.optim as optim\n",
    "import torch.nn.functional as F\n",
    "from torchvision import datasets, transforms\n",
    "from torch.utils.data import DataLoader, random_split\n",
    "from torch.optim.lr_scheduler import LambdaLR\n",
    "import torchvision\n",
    "import matplotlib.pyplot as plt\n",
    "import numpy as np\n",
    "from IPython.display import clear_output"
   ]
  },
  {
   "cell_type": "code",
   "execution_count": 2,
   "metadata": {},
   "outputs": [
    {
     "name": "stderr",
     "output_type": "stream",
     "text": [
      "/Users/kkozik/Library/anaconda3/envs/torch_env/lib/python3.10/site-packages/tqdm/auto.py:21: TqdmWarning: IProgress not found. Please update jupyter and ipywidgets. See https://ipywidgets.readthedocs.io/en/stable/user_install.html\n",
      "  from .autonotebook import tqdm as notebook_tqdm\n"
     ]
    }
   ],
   "source": [
    "import optuna\n",
    "import copy\n",
    "from tqdm import tqdm\n",
    "import shutil\n",
    "import os\n",
    "from datetime import datetime\n",
    "# from torchsummary import summary"
   ]
  },
  {
   "cell_type": "code",
   "execution_count": 3,
   "metadata": {},
   "outputs": [
    {
     "data": {
      "text/plain": [
       "<torch._C.Generator at 0x10f728a70>"
      ]
     },
     "execution_count": 3,
     "metadata": {},
     "output_type": "execute_result"
    }
   ],
   "source": [
    "torch.manual_seed(42)"
   ]
  },
  {
   "cell_type": "markdown",
   "metadata": {},
   "source": [
    "# Helper Functions"
   ]
  },
  {
   "cell_type": "code",
   "execution_count": 4,
   "metadata": {},
   "outputs": [],
   "source": [
    "def remove_dataset_on_disk():\n",
    "    if os.path.exists('./data'):\n",
    "        shutil.rmtree('./data')\n",
    "        print(\"Removing 'data' folder\")\n",
    "    else:\n",
    "        print(\"'data' folder does not exists\")"
   ]
  },
  {
   "cell_type": "code",
   "execution_count": 5,
   "metadata": {},
   "outputs": [],
   "source": [
    "def count_parameters(model):\n",
    "    return sum(p.numel() for p in model.parameters() if p.requires_grad)"
   ]
  },
  {
   "cell_type": "code",
   "execution_count": 6,
   "metadata": {},
   "outputs": [],
   "source": [
    "def plot_training_validation_loss(train_losses, val_losses):\n",
    "    num_epochs = len(train_losses)\n",
    "\n",
    "    plt.figure(figsize=(8, 6))\n",
    "    plt.plot(range(1, num_epochs + 1), train_losses, label='Training Loss', marker='o')\n",
    "    plt.plot(range(1, num_epochs + 1), val_losses, label='Validation Loss', marker='o')\n",
    "    plt.xlabel('Epochs', fontsize=14)\n",
    "    plt.ylabel('Loss', fontsize=14)\n",
    "    plt.title('Training and Validation Loss', fontsize=16)\n",
    "    plt.xticks(fontsize=12)\n",
    "    plt.yticks(fontsize=12)\n",
    "    plt.grid(True, linestyle='--', alpha=0.7)\n",
    "    plt.legend()\n",
    "    plt.show()"
   ]
  },
  {
   "cell_type": "markdown",
   "metadata": {},
   "source": [
    "# Dataset Preparation and Augmentation"
   ]
  },
  {
   "cell_type": "code",
   "execution_count": 7,
   "metadata": {},
   "outputs": [
    {
     "name": "stdout",
     "output_type": "stream",
     "text": [
      "Removing 'data' folder\n"
     ]
    }
   ],
   "source": [
    "remove_dataset_on_disk()"
   ]
  },
  {
   "cell_type": "code",
   "execution_count": 8,
   "metadata": {},
   "outputs": [],
   "source": [
    "# transform_train = transforms.Compose([\n",
    "#     transforms.RandomHorizontalFlip(),\n",
    "#     transforms.RandomCrop(32, padding=4),\n",
    "#     transforms.ToTensor(),\n",
    "#     transforms.Normalize((0.5, 0.5, 0.5), (0.5, 0.5, 0.5))\n",
    "# ])\n",
    "\n",
    "# transform_test = transforms.Compose([\n",
    "#     transforms.ToTensor(),\n",
    "#     transforms.Normalize((0.5, 0.5, 0.5), (0.5, 0.5, 0.5))\n",
    "# ])\n",
    "\n",
    "def random_eraser(p=0.5, s_l=0.02, s_h=0.4, r_1=0.3, r_2=1/0.3, v_l=0, v_h=1):\n",
    "    def eraser(img):\n",
    "        if np.random.rand() > p:\n",
    "            return img\n",
    "        img_h, img_w = img.shape[1:]\n",
    "        while True:\n",
    "            s = np.random.uniform(s_l, s_h) * img_h * img_w\n",
    "            r = np.random.uniform(r_1, r_2)\n",
    "            w = int(np.sqrt(s / r))\n",
    "            h = int(np.sqrt(s * r))\n",
    "            left = np.random.randint(0, img_w)\n",
    "            top = np.random.randint(0, img_h)\n",
    "            if left + w <= img_w and top + h <= img_h:\n",
    "                break\n",
    "        c = np.random.uniform(v_l, v_h)\n",
    "        img[:, top:top + h, left:left + w] = c\n",
    "        return img\n",
    "    return eraser\n",
    "\n",
    "transform_train = transforms.Compose([\n",
    "    transforms.RandomHorizontalFlip(),\n",
    "    transforms.RandomCrop(32, padding=4),\n",
    "    transforms.ToTensor(),\n",
    "    transforms.Normalize((0.5, 0.5, 0.5), (0.5, 0.5, 0.5)),\n",
    "    transforms.Lambda(random_eraser(p=1))\n",
    "])\n",
    "\n",
    "transform_test = transforms.Compose([\n",
    "    transforms.ToTensor(),\n",
    "    transforms.Normalize((0.5, 0.5, 0.5), (0.5, 0.5, 0.5))\n",
    "])"
   ]
  },
  {
   "cell_type": "code",
   "execution_count": 9,
   "metadata": {},
   "outputs": [
    {
     "name": "stdout",
     "output_type": "stream",
     "text": [
      "Downloading https://www.cs.toronto.edu/~kriz/cifar-10-python.tar.gz to ./data/cifar-10-python.tar.gz\n"
     ]
    },
    {
     "name": "stderr",
     "output_type": "stream",
     "text": [
      "100%|██████████| 170498071/170498071 [00:07<00:00, 21454671.58it/s]\n"
     ]
    },
    {
     "name": "stdout",
     "output_type": "stream",
     "text": [
      "Extracting ./data/cifar-10-python.tar.gz to ./data\n",
      "Files already downloaded and verified\n"
     ]
    }
   ],
   "source": [
    "train_dataset_original = datasets.CIFAR10(root='./data', train=True, download=True, transform=None)\n",
    "test_dataset = datasets.CIFAR10(root='./data', train=False, download=True, transform=None)"
   ]
  },
  {
   "cell_type": "code",
   "execution_count": 10,
   "metadata": {},
   "outputs": [],
   "source": [
    "train_size = int(0.9 * len(train_dataset_original))\n",
    "val_size = len(train_dataset_original) - train_size\n",
    "train_dataset, val_dataset = random_split(train_dataset_original, [train_size, val_size])"
   ]
  },
  {
   "cell_type": "code",
   "execution_count": 11,
   "metadata": {},
   "outputs": [],
   "source": [
    "train_dataset.dataset.transform = transform_train\n",
    "val_dataset.dataset.transform = transform_test\n",
    "test_dataset.transform = transform_test"
   ]
  },
  {
   "cell_type": "markdown",
   "metadata": {},
   "source": [
    "# Model"
   ]
  },
  {
   "cell_type": "code",
   "execution_count": 12,
   "metadata": {},
   "outputs": [],
   "source": [
    "class ResBlock(nn.Module):\n",
    "    def __init__(self, in_channels, out_channels, stride=1, downsample=None, activation=nn.ReLU):\n",
    "        super(ResBlock, self).__init__()\n",
    "        self.conv1 = nn.Conv2d(in_channels, out_channels, kernel_size=3, stride=stride, padding=1, bias=False)\n",
    "        self.activation = activation()\n",
    "        self.conv2 = nn.Conv2d(out_channels, out_channels, kernel_size=3, stride=1, padding=1, bias=False)\n",
    "        self.bn1 = nn.BatchNorm2d(out_channels)\n",
    "        self.downsample = downsample\n",
    "\n",
    "    def forward(self, x):\n",
    "        residual = x\n",
    "        out = self.conv1(x)\n",
    "        out = self.activation(out)\n",
    "        out = self.conv2(out)\n",
    "        out = self.bn1(out)\n",
    "\n",
    "        if self.downsample:\n",
    "            residual = self.downsample(x)\n",
    "\n",
    "        out += residual\n",
    "        out = self.activation(out)\n",
    "        return out\n",
    "\n",
    "class TransitionBlock(nn.Module):\n",
    "    def __init__(self, in_channels, out_channels, activation=nn.ReLU):\n",
    "        super(TransitionBlock, self).__init__()\n",
    "        \n",
    "        self.main_path = nn.Sequential(\n",
    "            nn.Conv2d(in_channels, out_channels, kernel_size=3, stride=2, padding=1, bias=False),\n",
    "            activation()\n",
    "        )\n",
    "        \n",
    "        self.shortcut = nn.Sequential(\n",
    "            nn.Conv2d(in_channels, out_channels, kernel_size=1, stride=2, bias=False),\n",
    "            nn.BatchNorm2d(out_channels)\n",
    "        )\n",
    "        \n",
    "    def forward(self, x):\n",
    "        main_output = self.main_path(x)\n",
    "        shortcut_output = self.shortcut(x)\n",
    "        out = main_output + shortcut_output\n",
    "        return out\n",
    "\n",
    "class ResNet(nn.Module):\n",
    "    def __init__(self, num_classes=10, input_shape=(32, 32, 3), size=44, starting_filter=16, activation=nn.ReLU, dropout_rate=0.0):\n",
    "        super(ResNet, self).__init__()\n",
    "        self.in_channels = starting_filter\n",
    "        self.residual_blocks_num = (size - 2) // 6\n",
    "        self.activation = activation\n",
    "        self.dropout = nn.Dropout(dropout_rate)\n",
    "        \n",
    "        # Initial convolution layer\n",
    "        self.conv1 = nn.Conv2d(input_shape[2], starting_filter, kernel_size=3, stride=1, padding=1, bias=False)\n",
    "        self.bn1 = nn.BatchNorm2d(starting_filter)\n",
    "        self.init_activation = activation()\n",
    "        \n",
    "        # Stacks of residual blocks with transition layers\n",
    "        self.layer1 = self._make_layer(starting_filter, self.residual_blocks_num, stride=1, first_layer=True)\n",
    "        self.transition1 = TransitionBlock(starting_filter, starting_filter * 2, activation)\n",
    "        self.layer2 = self._make_layer(starting_filter * 2, self.residual_blocks_num, stride=1)\n",
    "        self.transition2 = TransitionBlock(starting_filter * 2, starting_filter * 4, activation)\n",
    "        self.layer3 = self._make_layer(starting_filter * 4, self.residual_blocks_num, stride=1)\n",
    "        \n",
    "        # Global average pooling and fully connected layer\n",
    "        self.avg_pool = nn.AdaptiveAvgPool2d((1, 1))\n",
    "        self.fc = nn.Linear(starting_filter * 4, num_classes)\n",
    "\n",
    "    def _make_layer(self, out_channels, blocks, stride=1, first_layer=False):\n",
    "        layers = []\n",
    "        if first_layer:\n",
    "            layers.append(ResBlock(self.in_channels, out_channels, stride, activation=self.activation))\n",
    "        self.in_channels = out_channels\n",
    "        for _ in range(1, blocks):\n",
    "            layers.append(ResBlock(out_channels, out_channels, activation=self.activation))\n",
    "        return nn.Sequential(*layers)\n",
    "\n",
    "    def forward(self, x):\n",
    "        # Initial convolution layer\n",
    "        x = self.conv1(x)\n",
    "        x = self.bn1(x)\n",
    "        x = self.init_activation(x)\n",
    "        \n",
    "        # ResNet blocks with transitions\n",
    "        x = self.layer1(x)\n",
    "        x = self.transition1(x)\n",
    "        x = self.layer2(x)\n",
    "        x = self.transition2(x)\n",
    "        x = self.layer3(x)\n",
    "        \n",
    "        # Global average pooling and output\n",
    "        x = self.avg_pool(x)\n",
    "        x = torch.flatten(x, 1)\n",
    "        x = self.dropout(x)\n",
    "        x = self.fc(x)\n",
    "        \n",
    "        return x"
   ]
  },
  {
   "cell_type": "code",
   "execution_count": 13,
   "metadata": {},
   "outputs": [
    {
     "data": {
      "text/plain": [
       "ResNet(\n",
       "  (dropout): Dropout(p=0.5, inplace=False)\n",
       "  (conv1): Conv2d(3, 16, kernel_size=(3, 3), stride=(1, 1), padding=(1, 1), bias=False)\n",
       "  (bn1): BatchNorm2d(16, eps=1e-05, momentum=0.1, affine=True, track_running_stats=True)\n",
       "  (init_activation): ELU(alpha=1.0)\n",
       "  (layer1): Sequential(\n",
       "    (0): ResBlock(\n",
       "      (conv1): Conv2d(16, 16, kernel_size=(3, 3), stride=(1, 1), padding=(1, 1), bias=False)\n",
       "      (activation): ELU(alpha=1.0)\n",
       "      (conv2): Conv2d(16, 16, kernel_size=(3, 3), stride=(1, 1), padding=(1, 1), bias=False)\n",
       "      (bn1): BatchNorm2d(16, eps=1e-05, momentum=0.1, affine=True, track_running_stats=True)\n",
       "    )\n",
       "    (1): ResBlock(\n",
       "      (conv1): Conv2d(16, 16, kernel_size=(3, 3), stride=(1, 1), padding=(1, 1), bias=False)\n",
       "      (activation): ELU(alpha=1.0)\n",
       "      (conv2): Conv2d(16, 16, kernel_size=(3, 3), stride=(1, 1), padding=(1, 1), bias=False)\n",
       "      (bn1): BatchNorm2d(16, eps=1e-05, momentum=0.1, affine=True, track_running_stats=True)\n",
       "    )\n",
       "    (2): ResBlock(\n",
       "      (conv1): Conv2d(16, 16, kernel_size=(3, 3), stride=(1, 1), padding=(1, 1), bias=False)\n",
       "      (activation): ELU(alpha=1.0)\n",
       "      (conv2): Conv2d(16, 16, kernel_size=(3, 3), stride=(1, 1), padding=(1, 1), bias=False)\n",
       "      (bn1): BatchNorm2d(16, eps=1e-05, momentum=0.1, affine=True, track_running_stats=True)\n",
       "    )\n",
       "    (3): ResBlock(\n",
       "      (conv1): Conv2d(16, 16, kernel_size=(3, 3), stride=(1, 1), padding=(1, 1), bias=False)\n",
       "      (activation): ELU(alpha=1.0)\n",
       "      (conv2): Conv2d(16, 16, kernel_size=(3, 3), stride=(1, 1), padding=(1, 1), bias=False)\n",
       "      (bn1): BatchNorm2d(16, eps=1e-05, momentum=0.1, affine=True, track_running_stats=True)\n",
       "    )\n",
       "    (4): ResBlock(\n",
       "      (conv1): Conv2d(16, 16, kernel_size=(3, 3), stride=(1, 1), padding=(1, 1), bias=False)\n",
       "      (activation): ELU(alpha=1.0)\n",
       "      (conv2): Conv2d(16, 16, kernel_size=(3, 3), stride=(1, 1), padding=(1, 1), bias=False)\n",
       "      (bn1): BatchNorm2d(16, eps=1e-05, momentum=0.1, affine=True, track_running_stats=True)\n",
       "    )\n",
       "    (5): ResBlock(\n",
       "      (conv1): Conv2d(16, 16, kernel_size=(3, 3), stride=(1, 1), padding=(1, 1), bias=False)\n",
       "      (activation): ELU(alpha=1.0)\n",
       "      (conv2): Conv2d(16, 16, kernel_size=(3, 3), stride=(1, 1), padding=(1, 1), bias=False)\n",
       "      (bn1): BatchNorm2d(16, eps=1e-05, momentum=0.1, affine=True, track_running_stats=True)\n",
       "    )\n",
       "    (6): ResBlock(\n",
       "      (conv1): Conv2d(16, 16, kernel_size=(3, 3), stride=(1, 1), padding=(1, 1), bias=False)\n",
       "      (activation): ELU(alpha=1.0)\n",
       "      (conv2): Conv2d(16, 16, kernel_size=(3, 3), stride=(1, 1), padding=(1, 1), bias=False)\n",
       "      (bn1): BatchNorm2d(16, eps=1e-05, momentum=0.1, affine=True, track_running_stats=True)\n",
       "    )\n",
       "  )\n",
       "  (transition1): TransitionBlock(\n",
       "    (main_path): Sequential(\n",
       "      (0): Conv2d(16, 32, kernel_size=(3, 3), stride=(2, 2), padding=(1, 1), bias=False)\n",
       "      (1): ELU(alpha=1.0)\n",
       "    )\n",
       "    (shortcut): Sequential(\n",
       "      (0): Conv2d(16, 32, kernel_size=(1, 1), stride=(2, 2), bias=False)\n",
       "      (1): BatchNorm2d(32, eps=1e-05, momentum=0.1, affine=True, track_running_stats=True)\n",
       "    )\n",
       "  )\n",
       "  (layer2): Sequential(\n",
       "    (0): ResBlock(\n",
       "      (conv1): Conv2d(32, 32, kernel_size=(3, 3), stride=(1, 1), padding=(1, 1), bias=False)\n",
       "      (activation): ELU(alpha=1.0)\n",
       "      (conv2): Conv2d(32, 32, kernel_size=(3, 3), stride=(1, 1), padding=(1, 1), bias=False)\n",
       "      (bn1): BatchNorm2d(32, eps=1e-05, momentum=0.1, affine=True, track_running_stats=True)\n",
       "    )\n",
       "    (1): ResBlock(\n",
       "      (conv1): Conv2d(32, 32, kernel_size=(3, 3), stride=(1, 1), padding=(1, 1), bias=False)\n",
       "      (activation): ELU(alpha=1.0)\n",
       "      (conv2): Conv2d(32, 32, kernel_size=(3, 3), stride=(1, 1), padding=(1, 1), bias=False)\n",
       "      (bn1): BatchNorm2d(32, eps=1e-05, momentum=0.1, affine=True, track_running_stats=True)\n",
       "    )\n",
       "    (2): ResBlock(\n",
       "      (conv1): Conv2d(32, 32, kernel_size=(3, 3), stride=(1, 1), padding=(1, 1), bias=False)\n",
       "      (activation): ELU(alpha=1.0)\n",
       "      (conv2): Conv2d(32, 32, kernel_size=(3, 3), stride=(1, 1), padding=(1, 1), bias=False)\n",
       "      (bn1): BatchNorm2d(32, eps=1e-05, momentum=0.1, affine=True, track_running_stats=True)\n",
       "    )\n",
       "    (3): ResBlock(\n",
       "      (conv1): Conv2d(32, 32, kernel_size=(3, 3), stride=(1, 1), padding=(1, 1), bias=False)\n",
       "      (activation): ELU(alpha=1.0)\n",
       "      (conv2): Conv2d(32, 32, kernel_size=(3, 3), stride=(1, 1), padding=(1, 1), bias=False)\n",
       "      (bn1): BatchNorm2d(32, eps=1e-05, momentum=0.1, affine=True, track_running_stats=True)\n",
       "    )\n",
       "    (4): ResBlock(\n",
       "      (conv1): Conv2d(32, 32, kernel_size=(3, 3), stride=(1, 1), padding=(1, 1), bias=False)\n",
       "      (activation): ELU(alpha=1.0)\n",
       "      (conv2): Conv2d(32, 32, kernel_size=(3, 3), stride=(1, 1), padding=(1, 1), bias=False)\n",
       "      (bn1): BatchNorm2d(32, eps=1e-05, momentum=0.1, affine=True, track_running_stats=True)\n",
       "    )\n",
       "    (5): ResBlock(\n",
       "      (conv1): Conv2d(32, 32, kernel_size=(3, 3), stride=(1, 1), padding=(1, 1), bias=False)\n",
       "      (activation): ELU(alpha=1.0)\n",
       "      (conv2): Conv2d(32, 32, kernel_size=(3, 3), stride=(1, 1), padding=(1, 1), bias=False)\n",
       "      (bn1): BatchNorm2d(32, eps=1e-05, momentum=0.1, affine=True, track_running_stats=True)\n",
       "    )\n",
       "  )\n",
       "  (transition2): TransitionBlock(\n",
       "    (main_path): Sequential(\n",
       "      (0): Conv2d(32, 64, kernel_size=(3, 3), stride=(2, 2), padding=(1, 1), bias=False)\n",
       "      (1): ELU(alpha=1.0)\n",
       "    )\n",
       "    (shortcut): Sequential(\n",
       "      (0): Conv2d(32, 64, kernel_size=(1, 1), stride=(2, 2), bias=False)\n",
       "      (1): BatchNorm2d(64, eps=1e-05, momentum=0.1, affine=True, track_running_stats=True)\n",
       "    )\n",
       "  )\n",
       "  (layer3): Sequential(\n",
       "    (0): ResBlock(\n",
       "      (conv1): Conv2d(64, 64, kernel_size=(3, 3), stride=(1, 1), padding=(1, 1), bias=False)\n",
       "      (activation): ELU(alpha=1.0)\n",
       "      (conv2): Conv2d(64, 64, kernel_size=(3, 3), stride=(1, 1), padding=(1, 1), bias=False)\n",
       "      (bn1): BatchNorm2d(64, eps=1e-05, momentum=0.1, affine=True, track_running_stats=True)\n",
       "    )\n",
       "    (1): ResBlock(\n",
       "      (conv1): Conv2d(64, 64, kernel_size=(3, 3), stride=(1, 1), padding=(1, 1), bias=False)\n",
       "      (activation): ELU(alpha=1.0)\n",
       "      (conv2): Conv2d(64, 64, kernel_size=(3, 3), stride=(1, 1), padding=(1, 1), bias=False)\n",
       "      (bn1): BatchNorm2d(64, eps=1e-05, momentum=0.1, affine=True, track_running_stats=True)\n",
       "    )\n",
       "    (2): ResBlock(\n",
       "      (conv1): Conv2d(64, 64, kernel_size=(3, 3), stride=(1, 1), padding=(1, 1), bias=False)\n",
       "      (activation): ELU(alpha=1.0)\n",
       "      (conv2): Conv2d(64, 64, kernel_size=(3, 3), stride=(1, 1), padding=(1, 1), bias=False)\n",
       "      (bn1): BatchNorm2d(64, eps=1e-05, momentum=0.1, affine=True, track_running_stats=True)\n",
       "    )\n",
       "    (3): ResBlock(\n",
       "      (conv1): Conv2d(64, 64, kernel_size=(3, 3), stride=(1, 1), padding=(1, 1), bias=False)\n",
       "      (activation): ELU(alpha=1.0)\n",
       "      (conv2): Conv2d(64, 64, kernel_size=(3, 3), stride=(1, 1), padding=(1, 1), bias=False)\n",
       "      (bn1): BatchNorm2d(64, eps=1e-05, momentum=0.1, affine=True, track_running_stats=True)\n",
       "    )\n",
       "    (4): ResBlock(\n",
       "      (conv1): Conv2d(64, 64, kernel_size=(3, 3), stride=(1, 1), padding=(1, 1), bias=False)\n",
       "      (activation): ELU(alpha=1.0)\n",
       "      (conv2): Conv2d(64, 64, kernel_size=(3, 3), stride=(1, 1), padding=(1, 1), bias=False)\n",
       "      (bn1): BatchNorm2d(64, eps=1e-05, momentum=0.1, affine=True, track_running_stats=True)\n",
       "    )\n",
       "    (5): ResBlock(\n",
       "      (conv1): Conv2d(64, 64, kernel_size=(3, 3), stride=(1, 1), padding=(1, 1), bias=False)\n",
       "      (activation): ELU(alpha=1.0)\n",
       "      (conv2): Conv2d(64, 64, kernel_size=(3, 3), stride=(1, 1), padding=(1, 1), bias=False)\n",
       "      (bn1): BatchNorm2d(64, eps=1e-05, momentum=0.1, affine=True, track_running_stats=True)\n",
       "    )\n",
       "  )\n",
       "  (avg_pool): AdaptiveAvgPool2d(output_size=(1, 1))\n",
       "  (fc): Linear(in_features=64, out_features=10, bias=True)\n",
       ")"
      ]
     },
     "execution_count": 13,
     "metadata": {},
     "output_type": "execute_result"
    }
   ],
   "source": [
    "model = ResNet(activation=nn.ELU, dropout_rate=0.5)\n",
    "model"
   ]
  },
  {
   "cell_type": "code",
   "execution_count": 14,
   "metadata": {},
   "outputs": [
    {
     "name": "stdout",
     "output_type": "stream",
     "text": [
      "Total parameters: 613,498\n"
     ]
    }
   ],
   "source": [
    "print(f\"Total parameters: {count_parameters(model):,}\")"
   ]
  },
  {
   "cell_type": "code",
   "execution_count": 15,
   "metadata": {},
   "outputs": [],
   "source": [
    "def init_weights(m):\n",
    "    if isinstance(m, (nn.Conv2d, nn.Linear)):\n",
    "        nn.init.kaiming_normal_(m.weight, nonlinearity='relu')\n",
    "        if m.bias is not None:\n",
    "            nn.init.constant_(m.bias, 0)"
   ]
  },
  {
   "cell_type": "code",
   "execution_count": 16,
   "metadata": {},
   "outputs": [],
   "source": [
    "device = torch.device(\"mps\")\n",
    "model.to(device)\n",
    "model.apply(init_weights)\n",
    "clear_output()"
   ]
  },
  {
   "cell_type": "code",
   "execution_count": 17,
   "metadata": {},
   "outputs": [],
   "source": [
    "learning_rate = 0.1\n",
    "optimizer = optim.SGD(model.parameters(), lr=learning_rate, momentum=0.9, weight_decay=0.001)\n",
    "scheduler = LambdaLR(optimizer, lr_lambda=lambda epoch: 0.1 if epoch > 5 and epoch <= 10 else 0.01 if epoch > 10 else 1.0)\n",
    "\n",
    "criterion = nn.CrossEntropyLoss()"
   ]
  },
  {
   "cell_type": "code",
   "execution_count": 18,
   "metadata": {},
   "outputs": [],
   "source": [
    "train_loader = DataLoader(train_dataset, batch_size=128, shuffle=True)\n",
    "val_loader = DataLoader(val_dataset, batch_size=128, shuffle=False)\n",
    "test_loader = DataLoader(test_dataset, batch_size=128, shuffle=False)"
   ]
  },
  {
   "cell_type": "code",
   "execution_count": 19,
   "metadata": {},
   "outputs": [
    {
     "name": "stdout",
     "output_type": "stream",
     "text": [
      "Epoch 1/30\n"
     ]
    },
    {
     "name": "stderr",
     "output_type": "stream",
     "text": [
      "Training Batches: 100%|██████████| 352/352 [00:20<00:00, 17.20it/s]\n",
      "Validation Batches: 100%|██████████| 40/40 [00:01<00:00, 33.28it/s]\n"
     ]
    },
    {
     "name": "stdout",
     "output_type": "stream",
     "text": [
      "Training Loss: 1.8648, Validation Loss: 1.8590\n",
      "Epoch 2/30\n"
     ]
    },
    {
     "name": "stderr",
     "output_type": "stream",
     "text": [
      "Training Batches: 100%|██████████| 352/352 [00:19<00:00, 17.76it/s]\n",
      "Validation Batches: 100%|██████████| 40/40 [00:01<00:00, 37.43it/s]\n"
     ]
    },
    {
     "name": "stdout",
     "output_type": "stream",
     "text": [
      "Training Loss: 1.4911, Validation Loss: 1.4997\n",
      "Epoch 3/30\n"
     ]
    },
    {
     "name": "stderr",
     "output_type": "stream",
     "text": [
      "Training Batches: 100%|██████████| 352/352 [00:19<00:00, 17.77it/s]\n",
      "Validation Batches: 100%|██████████| 40/40 [00:01<00:00, 40.00it/s]\n"
     ]
    },
    {
     "name": "stdout",
     "output_type": "stream",
     "text": [
      "Training Loss: 1.2643, Validation Loss: 1.2054\n",
      "Epoch 4/30\n"
     ]
    },
    {
     "name": "stderr",
     "output_type": "stream",
     "text": [
      "Training Batches: 100%|██████████| 352/352 [00:19<00:00, 17.81it/s]\n",
      "Validation Batches: 100%|██████████| 40/40 [00:01<00:00, 38.95it/s]\n"
     ]
    },
    {
     "name": "stdout",
     "output_type": "stream",
     "text": [
      "Training Loss: 1.1039, Validation Loss: 1.1377\n",
      "Epoch 5/30\n"
     ]
    },
    {
     "name": "stderr",
     "output_type": "stream",
     "text": [
      "Training Batches: 100%|██████████| 352/352 [00:19<00:00, 17.77it/s]\n",
      "Validation Batches: 100%|██████████| 40/40 [00:01<00:00, 38.21it/s]\n"
     ]
    },
    {
     "name": "stdout",
     "output_type": "stream",
     "text": [
      "Training Loss: 0.9880, Validation Loss: 1.0560\n",
      "Epoch 6/30\n"
     ]
    },
    {
     "name": "stderr",
     "output_type": "stream",
     "text": [
      "Training Batches: 100%|██████████| 352/352 [00:19<00:00, 17.77it/s]\n",
      "Validation Batches: 100%|██████████| 40/40 [00:01<00:00, 39.27it/s]\n"
     ]
    },
    {
     "name": "stdout",
     "output_type": "stream",
     "text": [
      "Training Loss: 0.9064, Validation Loss: 1.0425\n",
      "Epoch 7/30\n"
     ]
    },
    {
     "name": "stderr",
     "output_type": "stream",
     "text": [
      "Training Batches: 100%|██████████| 352/352 [00:19<00:00, 17.76it/s]\n",
      "Validation Batches: 100%|██████████| 40/40 [00:01<00:00, 39.02it/s]\n"
     ]
    },
    {
     "name": "stdout",
     "output_type": "stream",
     "text": [
      "Training Loss: 0.6524, Validation Loss: 0.6021\n",
      "Epoch 8/30\n"
     ]
    },
    {
     "name": "stderr",
     "output_type": "stream",
     "text": [
      "Training Batches: 100%|██████████| 352/352 [00:19<00:00, 17.77it/s]\n",
      "Validation Batches: 100%|██████████| 40/40 [00:01<00:00, 38.99it/s]\n"
     ]
    },
    {
     "name": "stdout",
     "output_type": "stream",
     "text": [
      "Training Loss: 0.5760, Validation Loss: 0.5866\n",
      "Epoch 9/30\n"
     ]
    },
    {
     "name": "stderr",
     "output_type": "stream",
     "text": [
      "Training Batches: 100%|██████████| 352/352 [00:19<00:00, 17.65it/s]\n",
      "Validation Batches: 100%|██████████| 40/40 [00:01<00:00, 38.24it/s]\n"
     ]
    },
    {
     "name": "stdout",
     "output_type": "stream",
     "text": [
      "Training Loss: 0.5395, Validation Loss: 0.5531\n",
      "Epoch 10/30\n"
     ]
    },
    {
     "name": "stderr",
     "output_type": "stream",
     "text": [
      "Training Batches: 100%|██████████| 352/352 [00:19<00:00, 17.77it/s]\n",
      "Validation Batches: 100%|██████████| 40/40 [00:01<00:00, 38.29it/s]\n"
     ]
    },
    {
     "name": "stdout",
     "output_type": "stream",
     "text": [
      "Training Loss: 0.5105, Validation Loss: 0.5975\n",
      "Epoch 10 wasn't better than the previous\n",
      "Epoch 11/30\n"
     ]
    },
    {
     "name": "stderr",
     "output_type": "stream",
     "text": [
      "Training Batches: 100%|██████████| 352/352 [00:19<00:00, 17.66it/s]\n",
      "Validation Batches: 100%|██████████| 40/40 [00:01<00:00, 37.69it/s]\n"
     ]
    },
    {
     "name": "stdout",
     "output_type": "stream",
     "text": [
      "Training Loss: 0.4855, Validation Loss: 0.6048\n",
      "Epoch 11 wasn't better than the previous\n",
      "Epoch 12/30\n"
     ]
    },
    {
     "name": "stderr",
     "output_type": "stream",
     "text": [
      "Training Batches: 100%|██████████| 352/352 [00:19<00:00, 17.69it/s]\n",
      "Validation Batches: 100%|██████████| 40/40 [00:01<00:00, 37.63it/s]\n"
     ]
    },
    {
     "name": "stdout",
     "output_type": "stream",
     "text": [
      "Training Loss: 0.4100, Validation Loss: 0.4945\n",
      "Epoch 13/30\n"
     ]
    },
    {
     "name": "stderr",
     "output_type": "stream",
     "text": [
      "Training Batches: 100%|██████████| 352/352 [00:20<00:00, 17.55it/s]\n",
      "Validation Batches: 100%|██████████| 40/40 [00:01<00:00, 37.67it/s]\n"
     ]
    },
    {
     "name": "stdout",
     "output_type": "stream",
     "text": [
      "Training Loss: 0.3885, Validation Loss: 0.4943\n",
      "Epoch 14/30\n"
     ]
    },
    {
     "name": "stderr",
     "output_type": "stream",
     "text": [
      "Training Batches: 100%|██████████| 352/352 [00:19<00:00, 17.69it/s]\n",
      "Validation Batches: 100%|██████████| 40/40 [00:01<00:00, 38.65it/s]\n"
     ]
    },
    {
     "name": "stdout",
     "output_type": "stream",
     "text": [
      "Training Loss: 0.3770, Validation Loss: 0.4910\n",
      "Epoch 15/30\n"
     ]
    },
    {
     "name": "stderr",
     "output_type": "stream",
     "text": [
      "Training Batches: 100%|██████████| 352/352 [00:19<00:00, 17.70it/s]\n",
      "Validation Batches: 100%|██████████| 40/40 [00:01<00:00, 39.43it/s]\n"
     ]
    },
    {
     "name": "stdout",
     "output_type": "stream",
     "text": [
      "Training Loss: 0.3691, Validation Loss: 0.4899\n",
      "Epoch 16/30\n"
     ]
    },
    {
     "name": "stderr",
     "output_type": "stream",
     "text": [
      "Training Batches: 100%|██████████| 352/352 [00:19<00:00, 17.75it/s]\n",
      "Validation Batches: 100%|██████████| 40/40 [00:01<00:00, 39.09it/s]\n"
     ]
    },
    {
     "name": "stdout",
     "output_type": "stream",
     "text": [
      "Training Loss: 0.3603, Validation Loss: 0.4903\n",
      "Epoch 16 wasn't better than the previous\n",
      "Epoch 17/30\n"
     ]
    },
    {
     "name": "stderr",
     "output_type": "stream",
     "text": [
      "Training Batches: 100%|██████████| 352/352 [00:19<00:00, 17.70it/s]\n",
      "Validation Batches: 100%|██████████| 40/40 [00:01<00:00, 38.13it/s]\n"
     ]
    },
    {
     "name": "stdout",
     "output_type": "stream",
     "text": [
      "Training Loss: 0.3545, Validation Loss: 0.4873\n",
      "Epoch 18/30\n"
     ]
    },
    {
     "name": "stderr",
     "output_type": "stream",
     "text": [
      "Training Batches: 100%|██████████| 352/352 [00:19<00:00, 17.62it/s]\n",
      "Validation Batches: 100%|██████████| 40/40 [00:01<00:00, 38.74it/s]\n"
     ]
    },
    {
     "name": "stdout",
     "output_type": "stream",
     "text": [
      "Training Loss: 0.3482, Validation Loss: 0.4940\n",
      "Epoch 18 wasn't better than the previous\n",
      "Epoch 19/30\n"
     ]
    },
    {
     "name": "stderr",
     "output_type": "stream",
     "text": [
      "Training Batches: 100%|██████████| 352/352 [00:19<00:00, 17.69it/s]\n",
      "Validation Batches: 100%|██████████| 40/40 [00:01<00:00, 36.23it/s]\n"
     ]
    },
    {
     "name": "stdout",
     "output_type": "stream",
     "text": [
      "Training Loss: 0.3407, Validation Loss: 0.4925\n",
      "Epoch 19 wasn't better than the previous\n",
      "Epoch 20/30\n"
     ]
    },
    {
     "name": "stderr",
     "output_type": "stream",
     "text": [
      "Training Batches: 100%|██████████| 352/352 [00:19<00:00, 17.68it/s]\n",
      "Validation Batches: 100%|██████████| 40/40 [00:01<00:00, 38.74it/s]\n"
     ]
    },
    {
     "name": "stdout",
     "output_type": "stream",
     "text": [
      "Training Loss: 0.3341, Validation Loss: 0.4936\n",
      "Epoch 20 wasn't better than the previous\n",
      "Epoch 21/30\n"
     ]
    },
    {
     "name": "stderr",
     "output_type": "stream",
     "text": [
      "Training Batches: 100%|██████████| 352/352 [00:19<00:00, 17.84it/s]\n",
      "Validation Batches: 100%|██████████| 40/40 [00:01<00:00, 39.39it/s]\n"
     ]
    },
    {
     "name": "stdout",
     "output_type": "stream",
     "text": [
      "Training Loss: 0.3266, Validation Loss: 0.4919\n",
      "Epoch 21 wasn't better than the previous\n",
      "Epoch 22/30\n"
     ]
    },
    {
     "name": "stderr",
     "output_type": "stream",
     "text": [
      "Training Batches: 100%|██████████| 352/352 [00:19<00:00, 17.79it/s]\n",
      "Validation Batches: 100%|██████████| 40/40 [00:01<00:00, 39.37it/s]"
     ]
    },
    {
     "name": "stdout",
     "output_type": "stream",
     "text": [
      "Training Loss: 0.3196, Validation Loss: 0.4908\n",
      "Epoch 22 wasn't better than the previous\n",
      "Early stopping at epoch 22\n"
     ]
    },
    {
     "name": "stderr",
     "output_type": "stream",
     "text": [
      "\n"
     ]
    }
   ],
   "source": [
    "max_epochs = 30\n",
    "early_stopping_patience = 5\n",
    "best_val_loss = np.inf\n",
    "steps_without_improvement = 0\n",
    "train_losses, val_losses = [], []\n",
    "\n",
    "for epoch in range(max_epochs):\n",
    "    print(f\"Epoch {epoch+1}/{max_epochs}\")\n",
    "\n",
    "    # Training\n",
    "    model.train()\n",
    "    running_loss = 0.0\n",
    "    for inputs, labels in tqdm(train_loader, desc=\"Training Batches\"):\n",
    "        inputs, labels = inputs.to(device), labels.to(device)\n",
    "        optimizer.zero_grad()\n",
    "        outputs = model(inputs)\n",
    "        loss = criterion(outputs, labels)\n",
    "        loss.backward()\n",
    "        optimizer.step()\n",
    "        running_loss += loss.item() * inputs.size(0)\n",
    "\n",
    "    epoch_loss = running_loss / len(train_loader.dataset)\n",
    "    train_losses.append(epoch_loss)\n",
    "\n",
    "    # Validation\n",
    "    model.eval()\n",
    "    val_loss = 0.0\n",
    "    with torch.no_grad():\n",
    "        for val_inputs, val_labels in tqdm(val_loader, desc=\"Validation Batches\"):\n",
    "            val_inputs, val_labels = val_inputs.to(device), val_labels.to(device)\n",
    "            val_outputs = model(val_inputs)\n",
    "            val_loss += criterion(val_outputs, val_labels).item() * val_inputs.size(0)\n",
    "\n",
    "    val_loss /= len(val_loader.dataset)\n",
    "    val_losses.append(val_loss)\n",
    "    print(f\"Training Loss: {epoch_loss:.4f}, Validation Loss: {val_loss:.4f}\")\n",
    "\n",
    "    # Early Stopping\n",
    "    if val_loss < best_val_loss:\n",
    "        steps_without_improvement = 0\n",
    "        best_val_loss = val_loss\n",
    "        best_model = copy.deepcopy(model)\n",
    "    else:\n",
    "        steps_without_improvement += 1\n",
    "        print(f\"Epoch {epoch+1} wasn't better than the previous\")\n",
    "    \n",
    "    if steps_without_improvement >= early_stopping_patience:\n",
    "        print(f\"Early stopping at epoch {epoch+1}\")\n",
    "        break\n",
    "\n",
    "    scheduler.step()"
   ]
  },
  {
   "cell_type": "code",
   "execution_count": 20,
   "metadata": {},
   "outputs": [
    {
     "data": {
      "image/png": "[encoded data removed]",
      "text/plain": [
       "<Figure size 800x600 with 1 Axes>"
      ]
     },
     "metadata": {},
     "output_type": "display_data"
    }
   ],
   "source": [
    "plot_training_validation_loss(train_losses, val_losses)"
   ]
  },
  {
   "cell_type": "code",
   "execution_count": 21,
   "metadata": {},
   "outputs": [
    {
     "name": "stdout",
     "output_type": "stream",
     "text": [
      "Test Accuracy: 82.52%\n"
     ]
    }
   ],
   "source": [
    "model.eval()\n",
    "correct = 0\n",
    "total = 0\n",
    "\n",
    "with torch.no_grad():\n",
    "    for test_inputs, test_labels in test_loader:\n",
    "        test_inputs, test_labels = test_inputs.to(device), test_labels.to(device)\n",
    "        outputs = model(test_inputs)\n",
    "        _, predicted = torch.max(outputs.data, 1)\n",
    "        total += test_labels.size(0)\n",
    "        correct += (predicted == test_labels).sum().item()\n",
    "\n",
    "test_accuracy = correct / total\n",
    "print(f'Test Accuracy: {test_accuracy * 100:.2f}%')"
   ]
  },
  {
   "cell_type": "markdown",
   "metadata": {},
   "source": [
    "# Hyperparameters Optimization"
   ]
  },
  {
   "cell_type": "code",
   "execution_count": 24,
   "metadata": {},
   "outputs": [],
   "source": [
    "def objective(trial):\n",
    "    # Save logs\n",
    "    log_file = 'optimization_log_resnet.txt'\n",
    "    \n",
    "    # Hyperparameters\n",
    "    activation = trial.suggest_categorical(\"activation\", [nn.ReLU, nn.ELU])\n",
    "    optimizer_name = trial.suggest_categorical(\"optimizer\", [\"SGD\", \"Adam\"])\n",
    "    lr = trial.suggest_uniform(\"lr\", 0.05, 0.15)\n",
    "    weight_decay = trial.suggest_loguniform(\"weight_decay\", 1e-6, 1e-2)\n",
    "    # batch_size = trial.suggest_categorical(\"batch_size\", [128, 256])\n",
    "    batch_size = trial.suggest_categorical(\"batch_size\", [128])\n",
    "    dropout_rate = trial.suggest_uniform('dropout_rate', 0.0, 0.5)\n",
    "\n",
    "    # Scheduler learning rates\n",
    "    lr1 = trial.suggest_loguniform(\"scheduler_lr1\", 0.8, 1.0)\n",
    "    lr2 = trial.suggest_loguniform(\"scheduler_lr2\", 0.08, 0.1)\n",
    "    lr3 = trial.suggest_loguniform(\"scheduler_lr3\", 0.008, 0.01)\n",
    "    lr4 = trial.suggest_loguniform(\"scheduler_lr4\", 0.006, 0.008)\n",
    "\n",
    "    # Scheduler epochs\n",
    "    scheduler_epoch1 = trial.suggest_int(\"scheduler_epoch1\", 3, 15)\n",
    "    scheduler_epoch2 = trial.suggest_int(\"scheduler_epoch2\", scheduler_epoch1 + 1, 25)\n",
    "    scheduler_epoch3 = trial.suggest_int(\"scheduler_epoch3\", scheduler_epoch2 + 1, 35)\n",
    "\n",
    "    # Dataloaders with tuned batch_size\n",
    "    train_loader = DataLoader(train_dataset, batch_size=batch_size, shuffle=True)\n",
    "    val_loader = DataLoader(val_dataset, batch_size=batch_size, shuffle=False)\n",
    "    test_loader = DataLoader(test_dataset, batch_size=batch_size, shuffle=False)\n",
    "    \n",
    "    # Model\n",
    "    model = ResNet(num_classes=10, activation=activation, dropout_rate=dropout_rate)\n",
    "    model.apply(init_weights)\n",
    "    device = torch.device(\"mps\")\n",
    "    model.to(device)\n",
    "    \n",
    "    # Optimizer\n",
    "    if optimizer_name == \"SGD\":\n",
    "        optimizer = optim.SGD(model.parameters(), lr=lr, momentum=0.9, weight_decay=weight_decay)\n",
    "    else:\n",
    "        optimizer = optim.Adam(model.parameters(), lr=lr, weight_decay=weight_decay)\n",
    "    \n",
    "    # Scheduler\n",
    "    scheduler = LambdaLR(\n",
    "        optimizer,\n",
    "        lr_lambda=lambda epoch: lr1 if epoch < scheduler_epoch1 else lr2 if epoch < scheduler_epoch2 else lr3 if epoch < scheduler_epoch3 else lr4\n",
    "        )\n",
    "\n",
    "    # Loss function\n",
    "    criterion = nn.CrossEntropyLoss()\n",
    "\n",
    "    with open(log_file, 'a') as f:\n",
    "        f.write(f\"\\n\\n--- New Trial ---\\n\")\n",
    "        f.write(f\"Trial {trial.number} - {datetime.now()}\\n\")\n",
    "        f.write(f\"Hyperparameters: activation={activation}, optimizer={optimizer_name}, lr={lr}, \"\n",
    "                f\"weight_decay={weight_decay}, batch_size={batch_size}, \"\n",
    "                f\"scheduler_lr1={lr1}, scheduler_lr2={lr2}, scheduler_lr3={lr3}, scheduler_lr4={lr4}, \"\n",
    "                f\"scheduler_epoch1={scheduler_epoch1}, scheduler_epoch2={scheduler_epoch2}, , scheduler_epoch3={scheduler_epoch3}\\n\"\n",
    "                )\n",
    "\n",
    "    # Training and validation\n",
    "    max_epochs = 40\n",
    "    early_stopping_patience = 8\n",
    "    best_val_loss = np.inf\n",
    "    steps_without_improvement = 0\n",
    "\n",
    "    for epoch in range(max_epochs):\n",
    "        epoch_start_time = datetime.now()\n",
    "        model.train()\n",
    "        running_loss = 0.0\n",
    "        for inputs, labels in train_loader:\n",
    "            inputs, labels = inputs.to(device), labels.to(device)\n",
    "            optimizer.zero_grad()\n",
    "            outputs = model(inputs)\n",
    "            loss = criterion(outputs, labels)\n",
    "            loss.backward()\n",
    "            optimizer.step()\n",
    "            running_loss += loss.item() * inputs.size(0)\n",
    "\n",
    "        train_loss = running_loss / len(train_loader.dataset)\n",
    "\n",
    "        model.eval()\n",
    "        val_loss = 0.0\n",
    "        correct = 0\n",
    "        total = 0\n",
    "        with torch.no_grad():\n",
    "            for val_inputs, val_labels in val_loader:\n",
    "                val_inputs, val_labels = val_inputs.to(device), val_labels.to(device)\n",
    "                val_outputs = model(val_inputs)\n",
    "                loss = criterion(val_outputs, val_labels)\n",
    "                val_loss += loss.item() * val_inputs.size(0)\n",
    "                _, predicted = torch.max(val_outputs.data, 1)\n",
    "                total += val_labels.size(0)\n",
    "                correct += (predicted == val_labels).sum().item()\n",
    "\n",
    "        val_loss /= len(val_loader.dataset)\n",
    "        val_accuracy = correct / total\n",
    "\n",
    "        with open(log_file, 'a') as f:\n",
    "            f.write(f\"Epoch {epoch+1}/{max_epochs} - {epoch_start_time}\\n\"\n",
    "                    f\"Train Loss: {train_loss:.4f}, Val Loss: {val_loss:.4f}, \"\n",
    "                    f\"Val Accuracy: {val_accuracy:.4f}\\n\")\n",
    "\n",
    "        # Early stopping\n",
    "        if val_loss < best_val_loss:\n",
    "            steps_without_improvement = 0\n",
    "            best_val_loss = val_loss\n",
    "        else:\n",
    "            steps_without_improvement += 1\n",
    "        \n",
    "        if steps_without_improvement >= early_stopping_patience:\n",
    "            with open(log_file, 'a') as f:\n",
    "                f.write(f\"Early stopping at epoch {epoch+1}\\n\")\n",
    "            break\n",
    "\n",
    "        # Scheduler step\n",
    "        scheduler.step()\n",
    "\n",
    "        # Optuna report\n",
    "        trial.report(val_accuracy, epoch)\n",
    "\n",
    "        # Pruning\n",
    "        if trial.should_prune():\n",
    "            with open(log_file, 'a') as f:\n",
    "                f.write(f\"Trial {trial.number} pruned at epoch {epoch+1}\\n\")\n",
    "            raise optuna.exceptions.TrialPruned()\n",
    "\n",
    "    # Evaluation on the test set\n",
    "    model.eval()\n",
    "    correct = 0\n",
    "    total = 0\n",
    "    with torch.no_grad():\n",
    "        for test_inputs, test_labels in test_loader:\n",
    "            test_inputs, test_labels = test_inputs.to(device), test_labels.to(device)\n",
    "            outputs = model(test_inputs)\n",
    "            _, predicted = torch.max(outputs.data, 1)\n",
    "            total += test_labels.size(0)\n",
    "            correct += (predicted == test_labels).sum().item()\n",
    "    test_accuracy = correct / total\n",
    "\n",
    "    with open(log_file, 'a') as f:\n",
    "        f.write(f\"Final Test Accuracy: {test_accuracy:.4f} - {datetime.now()}\\n\")\n",
    "\n",
    "    return test_accuracy"
   ]
  },
  {
   "cell_type": "code",
   "execution_count": 25,
   "metadata": {},
   "outputs": [
    {
     "name": "stderr",
     "output_type": "stream",
     "text": [
      "[I 2024-10-29 22:56:56,861] A new study created in memory with name: no-name-abd98e7e-9d18-432e-a139-294eb5ae5fca\n",
      "/var/folders/bl/szgb52vx4p19h00643wv96mh0000gn/T/ipykernel_31452/3988544656.py:9: FutureWarning: suggest_uniform has been deprecated in v3.0.0. This feature will be removed in v6.0.0. See https://github.com/optuna/optuna/releases/tag/v3.0.0. Use suggest_float instead.\n",
      "  lr = trial.suggest_uniform(\"lr\", 0.05, 0.15)\n",
      "/var/folders/bl/szgb52vx4p19h00643wv96mh0000gn/T/ipykernel_31452/3988544656.py:10: FutureWarning: suggest_loguniform has been deprecated in v3.0.0. This feature will be removed in v6.0.0. See https://github.com/optuna/optuna/releases/tag/v3.0.0. Use suggest_float(..., log=True) instead.\n",
      "  weight_decay = trial.suggest_loguniform(\"weight_decay\", 1e-6, 1e-2)\n",
      "/var/folders/bl/szgb52vx4p19h00643wv96mh0000gn/T/ipykernel_31452/3988544656.py:13: FutureWarning: suggest_uniform has been deprecated in v3.0.0. This feature will be removed in v6.0.0. See https://github.com/optuna/optuna/releases/tag/v3.0.0. Use suggest_float instead.\n",
      "  dropout_rate = trial.suggest_uniform('dropout_rate', 0.0, 0.5)\n",
      "/var/folders/bl/szgb52vx4p19h00643wv96mh0000gn/T/ipykernel_31452/3988544656.py:16: FutureWarning: suggest_loguniform has been deprecated in v3.0.0. This feature will be removed in v6.0.0. See https://github.com/optuna/optuna/releases/tag/v3.0.0. Use suggest_float(..., log=True) instead.\n",
      "  lr1 = trial.suggest_loguniform(\"scheduler_lr1\", 0.8, 1.0)\n",
      "/var/folders/bl/szgb52vx4p19h00643wv96mh0000gn/T/ipykernel_31452/3988544656.py:17: FutureWarning: suggest_loguniform has been deprecated in v3.0.0. This feature will be removed in v6.0.0. See https://github.com/optuna/optuna/releases/tag/v3.0.0. Use suggest_float(..., log=True) instead.\n",
      "  lr2 = trial.suggest_loguniform(\"scheduler_lr2\", 0.08, 0.1)\n",
      "/var/folders/bl/szgb52vx4p19h00643wv96mh0000gn/T/ipykernel_31452/3988544656.py:18: FutureWarning: suggest_loguniform has been deprecated in v3.0.0. This feature will be removed in v6.0.0. See https://github.com/optuna/optuna/releases/tag/v3.0.0. Use suggest_float(..., log=True) instead.\n",
      "  lr3 = trial.suggest_loguniform(\"scheduler_lr3\", 0.008, 0.01)\n",
      "/var/folders/bl/szgb52vx4p19h00643wv96mh0000gn/T/ipykernel_31452/3988544656.py:19: FutureWarning: suggest_loguniform has been deprecated in v3.0.0. This feature will be removed in v6.0.0. See https://github.com/optuna/optuna/releases/tag/v3.0.0. Use suggest_float(..., log=True) instead.\n",
      "  lr4 = trial.suggest_loguniform(\"scheduler_lr4\", 0.006, 0.008)\n",
      "[I 2024-10-29 23:04:44,597] Trial 0 finished with value: 0.7902 and parameters: {'activation': <class 'torch.nn.modules.activation.ReLU'>, 'optimizer': 'SGD', 'lr': 0.12431151722752289, 'weight_decay': 0.00013591046872643477, 'batch_size': 128, 'dropout_rate': 0.4444159442395909, 'scheduler_lr1': 0.9181127559848112, 'scheduler_lr2': 0.08045463904744396, 'scheduler_lr3': 0.008479524685417746, 'scheduler_lr4': 0.006414411494247865, 'scheduler_epoch1': 11, 'scheduler_epoch2': 23, 'scheduler_epoch3': 32}. Best is trial 0 with value: 0.7902.\n",
      "[I 2024-10-29 23:11:23,799] Trial 1 finished with value: 0.8277 and parameters: {'activation': <class 'torch.nn.modules.activation.ELU'>, 'optimizer': 'SGD', 'lr': 0.14585081754571186, 'weight_decay': 0.00015366606793122532, 'batch_size': 128, 'dropout_rate': 0.445828135042655, 'scheduler_lr1': 0.9441548464799673, 'scheduler_lr2': 0.09347239755262156, 'scheduler_lr3': 0.009500812589760365, 'scheduler_lr4': 0.006500831308046674, 'scheduler_epoch1': 9, 'scheduler_epoch2': 25, 'scheduler_epoch3': 35}. Best is trial 1 with value: 0.8277.\n",
      "[I 2024-10-29 23:19:03,533] Trial 2 finished with value: 0.8262 and parameters: {'activation': <class 'torch.nn.modules.activation.ELU'>, 'optimizer': 'SGD', 'lr': 0.08378070351554599, 'weight_decay': 6.068982403586522e-06, 'batch_size': 128, 'dropout_rate': 0.3515309991616738, 'scheduler_lr1': 0.9482794656246223, 'scheduler_lr2': 0.09643689467172152, 'scheduler_lr3': 0.008747259261900212, 'scheduler_lr4': 0.007131000652626127, 'scheduler_epoch1': 11, 'scheduler_epoch2': 12, 'scheduler_epoch3': 26}. Best is trial 1 with value: 0.8277.\n",
      "[I 2024-10-29 23:26:40,537] Trial 3 finished with value: 0.8343 and parameters: {'activation': <class 'torch.nn.modules.activation.ELU'>, 'optimizer': 'SGD', 'lr': 0.11032830118763605, 'weight_decay': 2.288430429199579e-05, 'batch_size': 128, 'dropout_rate': 0.30509802863515406, 'scheduler_lr1': 0.9119655213395428, 'scheduler_lr2': 0.08782351632142352, 'scheduler_lr3': 0.008501893608980376, 'scheduler_lr4': 0.006685727963326962, 'scheduler_epoch1': 12, 'scheduler_epoch2': 13, 'scheduler_epoch3': 15}. Best is trial 3 with value: 0.8343.\n",
      "[I 2024-10-29 23:31:51,850] Trial 4 finished with value: 0.737 and parameters: {'activation': <class 'torch.nn.modules.activation.ELU'>, 'optimizer': 'SGD', 'lr': 0.09083442727802134, 'weight_decay': 0.0013814446938496083, 'batch_size': 128, 'dropout_rate': 0.25766055324545245, 'scheduler_lr1': 0.9819993783149824, 'scheduler_lr2': 0.09912955849625159, 'scheduler_lr3': 0.00862931474451939, 'scheduler_lr4': 0.006342789210740259, 'scheduler_epoch1': 4, 'scheduler_epoch2': 15, 'scheduler_epoch3': 23}. Best is trial 3 with value: 0.8343.\n",
      "[I 2024-10-29 23:38:05,395] Trial 5 finished with value: 0.838 and parameters: {'activation': <class 'torch.nn.modules.activation.ELU'>, 'optimizer': 'SGD', 'lr': 0.08627146629079858, 'weight_decay': 1.4148509005926598e-05, 'batch_size': 128, 'dropout_rate': 0.3892431203461448, 'scheduler_lr1': 0.8645268578634245, 'scheduler_lr2': 0.0850374671516517, 'scheduler_lr3': 0.008279375145769673, 'scheduler_lr4': 0.006967939303233612, 'scheduler_epoch1': 9, 'scheduler_epoch2': 11, 'scheduler_epoch3': 26}. Best is trial 5 with value: 0.838.\n",
      "[I 2024-10-29 23:39:07,652] Trial 6 pruned. \n",
      "[I 2024-10-29 23:39:27,895] Trial 7 pruned. \n",
      "[I 2024-10-29 23:39:48,711] Trial 8 pruned. \n",
      "[I 2024-10-29 23:40:09,490] Trial 9 pruned. \n",
      "[I 2024-10-29 23:40:29,675] Trial 10 pruned. \n",
      "[I 2024-10-29 23:40:50,412] Trial 11 pruned. \n",
      "[I 2024-10-29 23:41:11,222] Trial 12 pruned. \n",
      "[I 2024-10-29 23:41:31,992] Trial 13 pruned. \n",
      "[I 2024-10-29 23:41:52,095] Trial 14 pruned. \n",
      "[I 2024-10-29 23:42:12,902] Trial 15 pruned. \n",
      "[I 2024-10-29 23:42:33,648] Trial 16 pruned. \n",
      "[I 2024-10-29 23:46:41,083] Trial 17 pruned. \n",
      "[I 2024-10-29 23:47:01,156] Trial 18 pruned. \n",
      "[I 2024-10-29 23:51:08,799] Trial 19 pruned. \n",
      "[I 2024-10-29 23:58:02,514] Trial 20 finished with value: 0.8395 and parameters: {'activation': <class 'torch.nn.modules.activation.ELU'>, 'optimizer': 'SGD', 'lr': 0.05574327341976519, 'weight_decay': 0.00034433941054985576, 'batch_size': 128, 'dropout_rate': 0.49594220276212986, 'scheduler_lr1': 0.8352632264030283, 'scheduler_lr2': 0.09098736889457466, 'scheduler_lr3': 0.009406166146605086, 'scheduler_lr4': 0.006878213135784479, 'scheduler_epoch1': 8, 'scheduler_epoch2': 10, 'scheduler_epoch3': 15}. Best is trial 20 with value: 0.8395.\n",
      "[I 2024-10-30 00:00:47,291] Trial 21 pruned. \n",
      "[I 2024-10-30 00:03:32,179] Trial 22 pruned. \n",
      "[I 2024-10-30 00:05:15,354] Trial 23 pruned. \n",
      "[I 2024-10-30 00:05:36,049] Trial 24 pruned. \n",
      "[I 2024-10-30 00:05:56,787] Trial 25 pruned. \n",
      "[I 2024-10-30 00:06:16,800] Trial 26 pruned. \n",
      "[I 2024-10-30 00:06:37,497] Trial 27 pruned. \n",
      "[I 2024-10-30 00:06:58,150] Trial 28 pruned. \n",
      "[I 2024-10-30 00:07:18,218] Trial 29 pruned. \n",
      "[I 2024-10-30 00:09:01,738] Trial 30 pruned. \n",
      "[I 2024-10-30 00:09:22,416] Trial 31 pruned. \n",
      "[I 2024-10-30 00:09:43,123] Trial 32 pruned. \n",
      "[I 2024-10-30 00:10:03,796] Trial 33 pruned. \n",
      "[I 2024-10-30 00:10:24,488] Trial 34 pruned. \n",
      "[I 2024-10-30 00:10:45,199] Trial 35 pruned. \n",
      "[I 2024-10-30 00:11:05,865] Trial 36 pruned. \n",
      "[I 2024-10-30 00:16:14,921] Trial 37 pruned. \n",
      "[I 2024-10-30 00:16:34,916] Trial 38 pruned. \n",
      "[I 2024-10-30 00:16:55,609] Trial 39 pruned. \n",
      "[I 2024-10-30 00:18:38,612] Trial 40 pruned. \n",
      "[I 2024-10-30 00:19:40,519] Trial 41 pruned. \n",
      "[I 2024-10-30 00:20:01,241] Trial 42 pruned. \n",
      "[I 2024-10-30 00:21:03,030] Trial 43 pruned. \n",
      "[I 2024-10-30 00:23:27,289] Trial 44 pruned. \n",
      "[I 2024-10-30 00:27:34,362] Trial 45 pruned. \n",
      "[I 2024-10-30 00:27:54,397] Trial 46 pruned. \n",
      "[I 2024-10-30 00:31:20,422] Trial 47 pruned. \n",
      "[I 2024-10-30 00:31:41,123] Trial 48 pruned. \n",
      "[I 2024-10-30 00:36:50,045] Trial 49 pruned. \n",
      "[I 2024-10-30 00:40:57,266] Trial 50 pruned. \n",
      "[I 2024-10-30 00:41:17,266] Trial 51 pruned. \n",
      "[I 2024-10-30 00:41:37,293] Trial 52 pruned. \n",
      "[I 2024-10-30 00:41:57,316] Trial 53 pruned. \n",
      "[I 2024-10-30 00:42:17,284] Trial 54 pruned. \n",
      "[I 2024-10-30 00:42:37,312] Trial 55 pruned. \n",
      "[I 2024-10-30 00:42:57,951] Trial 56 pruned. \n",
      "[I 2024-10-30 00:43:17,970] Trial 57 pruned. \n",
      "[I 2024-10-30 00:43:38,668] Trial 58 pruned. \n",
      "[I 2024-10-30 00:43:59,345] Trial 59 pruned. \n",
      "[I 2024-10-30 00:44:20,050] Trial 60 pruned. \n",
      "[I 2024-10-30 00:44:40,730] Trial 61 pruned. \n",
      "[I 2024-10-30 00:45:01,389] Trial 62 pruned. \n",
      "[I 2024-10-30 00:46:44,541] Trial 63 pruned. \n",
      "[I 2024-10-30 00:50:51,990] Trial 64 pruned. \n",
      "[I 2024-10-30 00:51:12,683] Trial 65 pruned. \n",
      "[I 2024-10-30 00:52:34,992] Trial 66 pruned. \n",
      "[I 2024-10-30 00:52:55,035] Trial 67 pruned. \n",
      "[I 2024-10-30 00:53:15,720] Trial 68 pruned. \n",
      "[I 2024-10-30 00:53:36,410] Trial 69 pruned. \n",
      "[I 2024-10-30 00:57:43,540] Trial 70 pruned. \n",
      "[I 2024-10-30 00:59:26,678] Trial 71 pruned. \n",
      "[I 2024-10-30 01:03:33,803] Trial 72 pruned. \n",
      "[I 2024-10-30 01:10:27,732] Trial 73 finished with value: 0.8426 and parameters: {'activation': <class 'torch.nn.modules.activation.ELU'>, 'optimizer': 'SGD', 'lr': 0.05515952011638349, 'weight_decay': 1.9379324994425267e-05, 'batch_size': 128, 'dropout_rate': 0.27443045263423627, 'scheduler_lr1': 0.8203865395871073, 'scheduler_lr2': 0.0954526458038401, 'scheduler_lr3': 0.009972843471204789, 'scheduler_lr4': 0.006503556260637943, 'scheduler_epoch1': 11, 'scheduler_epoch2': 13, 'scheduler_epoch3': 22}. Best is trial 73 with value: 0.8426.\n",
      "[I 2024-10-30 01:10:48,468] Trial 74 pruned. \n",
      "[I 2024-10-30 01:14:15,174] Trial 75 pruned. \n",
      "[I 2024-10-30 01:18:02,712] Trial 76 pruned. \n",
      "[I 2024-10-30 01:19:25,527] Trial 77 pruned. \n",
      "[I 2024-10-30 01:19:45,656] Trial 78 pruned. \n",
      "[I 2024-10-30 01:20:06,414] Trial 79 pruned. \n",
      "[I 2024-10-30 01:20:27,189] Trial 80 pruned. \n",
      "[I 2024-10-30 01:23:54,140] Trial 81 pruned. \n",
      "[I 2024-10-30 01:27:21,080] Trial 82 pruned. \n",
      "[I 2024-10-30 01:27:41,844] Trial 83 pruned. \n",
      "[I 2024-10-30 01:31:08,610] Trial 84 pruned. \n",
      "[I 2024-10-30 01:32:31,339] Trial 85 pruned. \n",
      "[I 2024-10-30 01:33:12,899] Trial 86 pruned. \n",
      "[I 2024-10-30 01:33:33,031] Trial 87 pruned. \n",
      "[I 2024-10-30 01:37:41,296] Trial 88 pruned. \n",
      "[I 2024-10-30 01:38:02,046] Trial 89 pruned. \n",
      "[I 2024-10-30 01:38:22,800] Trial 90 pruned. \n",
      "[I 2024-10-30 01:44:35,354] Trial 91 finished with value: 0.8335 and parameters: {'activation': <class 'torch.nn.modules.activation.ELU'>, 'optimizer': 'SGD', 'lr': 0.07794451171407789, 'weight_decay': 9.467089153076776e-05, 'batch_size': 128, 'dropout_rate': 0.32032070452689565, 'scheduler_lr1': 0.9252980929965369, 'scheduler_lr2': 0.09348695326050298, 'scheduler_lr3': 0.008663478459687268, 'scheduler_lr4': 0.006985475555033458, 'scheduler_epoch1': 9, 'scheduler_epoch2': 16, 'scheduler_epoch3': 25}. Best is trial 73 with value: 0.8426.\n",
      "[I 2024-10-30 01:46:18,272] Trial 92 pruned. \n",
      "[I 2024-10-30 01:50:45,794] Trial 93 pruned. \n",
      "[I 2024-10-30 01:54:11,610] Trial 94 pruned. \n",
      "[I 2024-10-30 01:55:54,509] Trial 95 pruned. \n",
      "[I 2024-10-30 01:56:14,502] Trial 96 pruned. \n",
      "[I 2024-10-30 01:56:55,726] Trial 97 pruned. \n",
      "[I 2024-10-30 01:57:36,985] Trial 98 pruned. \n",
      "[I 2024-10-30 01:58:18,224] Trial 99 pruned. \n"
     ]
    }
   ],
   "source": [
    "study = optuna.create_study(direction=\"maximize\")\n",
    "study.optimize(objective, n_trials=100)"
   ]
  },
  {
   "cell_type": "code",
   "execution_count": 26,
   "metadata": {},
   "outputs": [
    {
     "name": "stdout",
     "output_type": "stream",
     "text": [
      "Best trial:\n",
      "Test Accuracy: 0.8426\n"
     ]
    }
   ],
   "source": [
    "print(\"Best trial:\")\n",
    "trial = study.best_trial\n",
    "print(f\"Test Accuracy: {trial.value:.4f}\")"
   ]
  },
  {
   "cell_type": "code",
   "execution_count": 27,
   "metadata": {},
   "outputs": [
    {
     "name": "stdout",
     "output_type": "stream",
     "text": [
      "Best hyperparameters:\n",
      "  - activation: <class 'torch.nn.modules.activation.ELU'>\n",
      "  - optimizer: SGD\n",
      "  - lr: 0.05515952011638349\n",
      "  - weight_decay: 1.9379324994425267e-05\n",
      "  - batch_size: 128\n",
      "  - dropout_rate: 0.27443045263423627\n",
      "  - scheduler_lr1: 0.8203865395871073\n",
      "  - scheduler_lr2: 0.0954526458038401\n",
      "  - scheduler_lr3: 0.009972843471204789\n",
      "  - scheduler_lr4: 0.006503556260637943\n",
      "  - scheduler_epoch1: 11\n",
      "  - scheduler_epoch2: 13\n",
      "  - scheduler_epoch3: 22\n"
     ]
    }
   ],
   "source": [
    "print(\"Best hyperparameters:\")\n",
    "for key, value in trial.params.items():\n",
    "    print(f\"  - {key}: {value}\")"
   ]
  },
  {
   "cell_type": "markdown",
   "metadata": {},
   "source": [
    "# Best model"
   ]
  },
  {
   "cell_type": "code",
   "execution_count": 28,
   "metadata": {},
   "outputs": [
    {
     "name": "stderr",
     "output_type": "stream",
     "text": [
      "Epoch 1/40: 100%|██████████| 352/352 [00:20<00:00, 17.19it/s]\n"
     ]
    },
    {
     "name": "stdout",
     "output_type": "stream",
     "text": [
      "Epoch 1, Train Loss: 1.5261, Val Loss: 1.3120, Val Accuracy: 0.5262\n"
     ]
    },
    {
     "name": "stderr",
     "output_type": "stream",
     "text": [
      "Epoch 2/40: 100%|██████████| 352/352 [00:20<00:00, 17.53it/s]\n"
     ]
    },
    {
     "name": "stdout",
     "output_type": "stream",
     "text": [
      "Epoch 2, Train Loss: 1.0325, Val Loss: 1.0293, Val Accuracy: 0.6390\n"
     ]
    },
    {
     "name": "stderr",
     "output_type": "stream",
     "text": [
      "Epoch 3/40: 100%|██████████| 352/352 [00:20<00:00, 17.26it/s]\n"
     ]
    },
    {
     "name": "stdout",
     "output_type": "stream",
     "text": [
      "Epoch 3, Train Loss: 0.8473, Val Loss: 0.9324, Val Accuracy: 0.6822\n"
     ]
    },
    {
     "name": "stderr",
     "output_type": "stream",
     "text": [
      "Epoch 4/40: 100%|██████████| 352/352 [00:20<00:00, 17.57it/s]\n"
     ]
    },
    {
     "name": "stdout",
     "output_type": "stream",
     "text": [
      "Epoch 4, Train Loss: 0.7236, Val Loss: 0.8100, Val Accuracy: 0.7180\n"
     ]
    },
    {
     "name": "stderr",
     "output_type": "stream",
     "text": [
      "Epoch 5/40: 100%|██████████| 352/352 [00:19<00:00, 17.69it/s]\n"
     ]
    },
    {
     "name": "stdout",
     "output_type": "stream",
     "text": [
      "Epoch 5, Train Loss: 0.6354, Val Loss: 0.8018, Val Accuracy: 0.7268\n"
     ]
    },
    {
     "name": "stderr",
     "output_type": "stream",
     "text": [
      "Epoch 6/40: 100%|██████████| 352/352 [00:19<00:00, 17.65it/s]\n"
     ]
    },
    {
     "name": "stdout",
     "output_type": "stream",
     "text": [
      "Epoch 6, Train Loss: 0.5696, Val Loss: 0.7122, Val Accuracy: 0.7534\n"
     ]
    },
    {
     "name": "stderr",
     "output_type": "stream",
     "text": [
      "Epoch 7/40: 100%|██████████| 352/352 [00:19<00:00, 17.66it/s]\n"
     ]
    },
    {
     "name": "stdout",
     "output_type": "stream",
     "text": [
      "Epoch 7, Train Loss: 0.5040, Val Loss: 0.6462, Val Accuracy: 0.7782\n"
     ]
    },
    {
     "name": "stderr",
     "output_type": "stream",
     "text": [
      "Epoch 8/40: 100%|██████████| 352/352 [00:19<00:00, 17.67it/s]\n"
     ]
    },
    {
     "name": "stdout",
     "output_type": "stream",
     "text": [
      "Epoch 8, Train Loss: 0.4545, Val Loss: 0.7789, Val Accuracy: 0.7410\n"
     ]
    },
    {
     "name": "stderr",
     "output_type": "stream",
     "text": [
      "Epoch 9/40: 100%|██████████| 352/352 [00:20<00:00, 17.53it/s]\n"
     ]
    },
    {
     "name": "stdout",
     "output_type": "stream",
     "text": [
      "Epoch 9, Train Loss: 0.4038, Val Loss: 0.6974, Val Accuracy: 0.7730\n"
     ]
    },
    {
     "name": "stderr",
     "output_type": "stream",
     "text": [
      "Epoch 10/40: 100%|██████████| 352/352 [00:19<00:00, 17.67it/s]\n"
     ]
    },
    {
     "name": "stdout",
     "output_type": "stream",
     "text": [
      "Epoch 10, Train Loss: 0.3576, Val Loss: 0.6634, Val Accuracy: 0.7762\n"
     ]
    },
    {
     "name": "stderr",
     "output_type": "stream",
     "text": [
      "Epoch 11/40: 100%|██████████| 352/352 [00:19<00:00, 17.68it/s]\n"
     ]
    },
    {
     "name": "stdout",
     "output_type": "stream",
     "text": [
      "Epoch 11, Train Loss: 0.3200, Val Loss: 0.6477, Val Accuracy: 0.7968\n"
     ]
    },
    {
     "name": "stderr",
     "output_type": "stream",
     "text": [
      "Epoch 12/40: 100%|██████████| 352/352 [00:20<00:00, 17.33it/s]\n"
     ]
    },
    {
     "name": "stdout",
     "output_type": "stream",
     "text": [
      "Epoch 12, Train Loss: 0.1650, Val Loss: 0.5458, Val Accuracy: 0.8228\n"
     ]
    },
    {
     "name": "stderr",
     "output_type": "stream",
     "text": [
      "Epoch 13/40: 100%|██████████| 352/352 [00:20<00:00, 17.45it/s]\n"
     ]
    },
    {
     "name": "stdout",
     "output_type": "stream",
     "text": [
      "Epoch 13, Train Loss: 0.1126, Val Loss: 0.5759, Val Accuracy: 0.8248\n"
     ]
    },
    {
     "name": "stderr",
     "output_type": "stream",
     "text": [
      "Epoch 14/40: 100%|██████████| 352/352 [00:20<00:00, 17.26it/s]\n"
     ]
    },
    {
     "name": "stdout",
     "output_type": "stream",
     "text": [
      "Epoch 14, Train Loss: 0.0879, Val Loss: 0.5730, Val Accuracy: 0.8234\n"
     ]
    },
    {
     "name": "stderr",
     "output_type": "stream",
     "text": [
      "Epoch 15/40: 100%|██████████| 352/352 [00:19<00:00, 17.61it/s]\n"
     ]
    },
    {
     "name": "stdout",
     "output_type": "stream",
     "text": [
      "Epoch 15, Train Loss: 0.0842, Val Loss: 0.5777, Val Accuracy: 0.8224\n"
     ]
    },
    {
     "name": "stderr",
     "output_type": "stream",
     "text": [
      "Epoch 16/40: 100%|██████████| 352/352 [00:19<00:00, 17.68it/s]\n"
     ]
    },
    {
     "name": "stdout",
     "output_type": "stream",
     "text": [
      "Epoch 16, Train Loss: 0.0828, Val Loss: 0.5800, Val Accuracy: 0.8238\n"
     ]
    },
    {
     "name": "stderr",
     "output_type": "stream",
     "text": [
      "Epoch 17/40: 100%|██████████| 352/352 [00:20<00:00, 17.45it/s]\n"
     ]
    },
    {
     "name": "stdout",
     "output_type": "stream",
     "text": [
      "Epoch 17, Train Loss: 0.0796, Val Loss: 0.5823, Val Accuracy: 0.8218\n"
     ]
    },
    {
     "name": "stderr",
     "output_type": "stream",
     "text": [
      "Epoch 18/40: 100%|██████████| 352/352 [00:20<00:00, 17.33it/s]\n"
     ]
    },
    {
     "name": "stdout",
     "output_type": "stream",
     "text": [
      "Epoch 18, Train Loss: 0.0772, Val Loss: 0.5871, Val Accuracy: 0.8224\n"
     ]
    },
    {
     "name": "stderr",
     "output_type": "stream",
     "text": [
      "Epoch 19/40: 100%|██████████| 352/352 [00:20<00:00, 16.93it/s]\n"
     ]
    },
    {
     "name": "stdout",
     "output_type": "stream",
     "text": [
      "Epoch 19, Train Loss: 0.0760, Val Loss: 0.5908, Val Accuracy: 0.8210\n"
     ]
    },
    {
     "name": "stderr",
     "output_type": "stream",
     "text": [
      "Epoch 20/40: 100%|██████████| 352/352 [00:20<00:00, 17.49it/s]\n"
     ]
    },
    {
     "name": "stdout",
     "output_type": "stream",
     "text": [
      "Epoch 20, Train Loss: 0.0733, Val Loss: 0.5934, Val Accuracy: 0.8216\n",
      "Early stopping\n"
     ]
    }
   ],
   "source": [
    "# Best model params\n",
    "best_params = trial.params\n",
    "\n",
    "# Hyperparameters\n",
    "activation = best_params[\"activation\"]\n",
    "optimizer_name = best_params[\"optimizer\"]\n",
    "lr = best_params[\"lr\"]\n",
    "weight_decay = best_params[\"weight_decay\"]\n",
    "batch_size = best_params[\"batch_size\"]\n",
    "dropout_rate = best_params[\"dropout_rate\"]\n",
    "scheduler_lr1 = best_params[\"scheduler_lr1\"]\n",
    "scheduler_lr2 = best_params[\"scheduler_lr2\"]\n",
    "scheduler_lr3 = best_params[\"scheduler_lr3\"]\n",
    "scheduler_epoch1 = best_params[\"scheduler_epoch1\"]\n",
    "scheduler_epoch2 = best_params[\"scheduler_epoch2\"]\n",
    "\n",
    "# Model\n",
    "model = ResNet(num_classes=10, activation=activation, dropout_rate=dropout_rate)\n",
    "model.apply(init_weights)\n",
    "device = torch.device(\"mps\")\n",
    "model.to(device)\n",
    "\n",
    "# Optimizer\n",
    "if optimizer_name == \"SGD\":\n",
    "    optimizer = torch.optim.SGD(model.parameters(), lr=lr, momentum=0.9, weight_decay=weight_decay)\n",
    "else:\n",
    "    optimizer = torch.optim.Adam(model.parameters(), lr=lr, weight_decay=weight_decay)\n",
    "\n",
    "scheduler = torch.optim.lr_scheduler.LambdaLR(\n",
    "    optimizer,\n",
    "    lr_lambda=lambda epoch: scheduler_lr1 if epoch < scheduler_epoch1 \n",
    "    else scheduler_lr2 if epoch < scheduler_epoch2 \n",
    "    else scheduler_lr3\n",
    ")\n",
    "\n",
    "# Dataloaders\n",
    "train_loader = DataLoader(train_dataset, batch_size=batch_size, shuffle=True)\n",
    "val_loader = DataLoader(val_dataset, batch_size=batch_size, shuffle=False)\n",
    "test_loader = DataLoader(test_dataset, batch_size=batch_size, shuffle=False)\n",
    "\n",
    "# Loss function\n",
    "criterion = nn.CrossEntropyLoss()\n",
    "\n",
    "# Training\n",
    "max_epochs = 40\n",
    "early_stopping_patience = 8\n",
    "best_val_loss = float(\"inf\")\n",
    "steps_without_improvement = 0\n",
    "best_model_state = None\n",
    "\n",
    "for epoch in range(max_epochs):\n",
    "    model.train()\n",
    "    running_loss = 0.0\n",
    "    for inputs, labels in tqdm(train_loader, desc=f\"Epoch {epoch+1}/{max_epochs}\"):\n",
    "        inputs, labels = inputs.to(device), labels.to(device)\n",
    "        optimizer.zero_grad()\n",
    "        outputs = model(inputs)\n",
    "        loss = criterion(outputs, labels)\n",
    "        loss.backward()\n",
    "        optimizer.step()\n",
    "        running_loss += loss.item() * inputs.size(0)\n",
    "\n",
    "    train_loss = running_loss / len(train_loader.dataset)\n",
    "\n",
    "    # Validation\n",
    "    model.eval()\n",
    "    val_loss = 0.0\n",
    "    correct = 0\n",
    "    total = 0\n",
    "    with torch.no_grad():\n",
    "        for val_inputs, val_labels in val_loader:\n",
    "            val_inputs, val_labels = val_inputs.to(device), val_labels.to(device)\n",
    "            val_outputs = model(val_inputs)\n",
    "            loss = criterion(val_outputs, val_labels)\n",
    "            val_loss += loss.item() * val_inputs.size(0)\n",
    "            _, predicted = torch.max(val_outputs.data, 1)\n",
    "            total += val_labels.size(0)\n",
    "            correct += (predicted == val_labels).sum().item()\n",
    "\n",
    "    val_loss /= len(val_loader.dataset)\n",
    "    val_accuracy = correct / total\n",
    "\n",
    "    print(f\"Epoch {epoch+1}, Train Loss: {train_loss:.4f}, Val Loss: {val_loss:.4f}, Val Accuracy: {val_accuracy:.4f}\")\n",
    "\n",
    "    # Early stopping\n",
    "    if val_loss < best_val_loss:\n",
    "        best_val_loss = val_loss\n",
    "        steps_without_improvement = 0\n",
    "        best_model_state = model.state_dict()\n",
    "    else:\n",
    "        steps_without_improvement += 1\n",
    "        if steps_without_improvement >= early_stopping_patience:\n",
    "            print(\"Early stopping\")\n",
    "            break\n",
    "\n",
    "    scheduler.step()"
   ]
  },
  {
   "cell_type": "code",
   "execution_count": 29,
   "metadata": {},
   "outputs": [],
   "source": [
    "classes = test_dataset.classes"
   ]
  },
  {
   "cell_type": "code",
   "execution_count": 30,
   "metadata": {},
   "outputs": [],
   "source": [
    "def show_predictions(img, true_labels, predicted_labels, batch_size):\n",
    "    img = img / 2 + 0.5\n",
    "    npimg = img.numpy()\n",
    "    plt.figure(figsize=(batch_size * 2, 2))\n",
    "    plt.imshow(np.transpose(npimg, (1, 2, 0)))\n",
    "    plt.axis('off')\n",
    "    \n",
    "    for i in range(len(true_labels)):\n",
    "        label_text = f\"True: {classes[true_labels[i]]}\\nPred: {classes[predicted_labels[i]]}\"\n",
    "        plt.text(i * (npimg.shape[2] / len(true_labels)) + (npimg.shape[2] / (2 * len(true_labels))),\n",
    "                 -2,\n",
    "                 label_text,\n",
    "                 ha='center',\n",
    "                 va='bottom',\n",
    "                 fontsize=12,\n",
    "                 color='white',\n",
    "                 bbox=dict(facecolor='black', alpha=0.5, edgecolor='none'))\n",
    "    \n",
    "    plt.show()"
   ]
  },
  {
   "cell_type": "code",
   "execution_count": 41,
   "metadata": {},
   "outputs": [],
   "source": [
    "def display_predictions(model, test_loader, classes, num_images=8, num_sample_rows=3):\n",
    "    dataiter = iter(test_loader)\n",
    "    for _ in range(num_sample_rows):\n",
    "        images, labels = next(dataiter)\n",
    "        images, labels = images[:num_images], labels[:num_images]\n",
    "        images, labels = images.to(device), labels.to(device)\n",
    "\n",
    "        model.eval()\n",
    "        with torch.no_grad():\n",
    "            outputs = model(images)\n",
    "            _, predicted = torch.max(outputs, 1)\n",
    "\n",
    "        images = images.cpu()\n",
    "        labels = labels.cpu()\n",
    "        predicted = predicted.cpu()\n",
    "\n",
    "        show_predictions(torchvision.utils.make_grid(images), labels, predicted, num_images)\n",
    "        for i in range(len(labels)):\n",
    "            print(f\"True label: {classes[labels[i]]}, Predicted: {classes[predicted[i]]}\")"
   ]
  },
  {
   "cell_type": "code",
   "execution_count": 42,
   "metadata": {},
   "outputs": [
    {
     "data": {
      "image/png": "[encoded data removed]",
      "text/plain": [
       "<Figure size 1600x200 with 1 Axes>"
      ]
     },
     "metadata": {},
     "output_type": "display_data"
    },
    {
     "name": "stdout",
     "output_type": "stream",
     "text": [
      "True label: dog, Predicted: cat\n",
      "True label: horse, Predicted: horse\n",
      "True label: ship, Predicted: ship\n",
      "True label: frog, Predicted: frog\n",
      "True label: horse, Predicted: horse\n",
      "True label: airplane, Predicted: airplane\n",
      "True label: deer, Predicted: deer\n",
      "True label: truck, Predicted: truck\n"
     ]
    },
    {
     "data": {
      "image/png": "[encoded data removed]",
      "text/plain": [
       "<Figure size 1600x200 with 1 Axes>"
      ]
     },
     "metadata": {},
     "output_type": "display_data"
    },
    {
     "name": "stdout",
     "output_type": "stream",
     "text": [
      "True label: ship, Predicted: ship\n",
      "True label: horse, Predicted: horse\n",
      "True label: frog, Predicted: frog\n",
      "True label: bird, Predicted: dog\n",
      "True label: dog, Predicted: dog\n",
      "True label: bird, Predicted: bird\n",
      "True label: ship, Predicted: ship\n",
      "True label: truck, Predicted: truck\n"
     ]
    },
    {
     "data": {
      "image/png": "[encoded data removed]",
      "text/plain": [
       "<Figure size 1600x200 with 1 Axes>"
      ]
     },
     "metadata": {},
     "output_type": "display_data"
    },
    {
     "name": "stdout",
     "output_type": "stream",
     "text": [
      "True label: frog, Predicted: frog\n",
      "True label: cat, Predicted: cat\n",
      "True label: ship, Predicted: ship\n",
      "True label: dog, Predicted: dog\n",
      "True label: airplane, Predicted: airplane\n",
      "True label: cat, Predicted: cat\n",
      "True label: deer, Predicted: deer\n",
      "True label: cat, Predicted: cat\n"
     ]
    }
   ],
   "source": [
    "display_predictions(model, test_loader, classes)"
   ]
  },
  {
   "cell_type": "code",
   "execution_count": 52,
   "metadata": {},
   "outputs": [
    {
     "name": "stdout",
     "output_type": "stream",
     "text": [
      "Removing 'data' folder\n"
     ]
    }
   ],
   "source": [
    "remove_dataset_on_disk()"
   ]
  },
  {
   "cell_type": "code",
   "execution_count": null,
   "metadata": {},
   "outputs": [],
   "source": []
  }
 ],
 "metadata": {
  "kernelspec": {
   "display_name": "torch_env",
   "language": "python",
   "name": "torch_env"
  },
  "language_info": {
   "codemirror_mode": {
    "name": "ipython",
    "version": 3
   },
   "file_extension": ".py",
   "mimetype": "text/x-python",
   "name": "python",
   "nbconvert_exporter": "python",
   "pygments_lexer": "ipython3",
   "version": "3.10.15"
  }
 },
 "nbformat": 4,
 "nbformat_minor": 2
}
